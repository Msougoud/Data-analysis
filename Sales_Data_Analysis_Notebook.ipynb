{
 "cells": [
  {
   "cell_type": "markdown",
   "id": "a9e232b8",
   "metadata": {},
   "source": [
    "# 📊 Sales Data Analysis in Python\n",
    "This notebook demonstrates how to analyze sales data using pandas and matplotlib."
   ]
  },
  {
   "cell_type": "code",
   "execution_count": null,
   "id": "84d18568",
   "metadata": {},
   "outputs": [],
   "source": [
    "import pandas as pd\n",
    "import matplotlib.pyplot as plt\n",
    "\n",
    "# For inline plotting\n",
    "%matplotlib inline"
   ]
  },
  {
   "cell_type": "code",
   "execution_count": null,
   "id": "dd9d8921",
   "metadata": {},
   "outputs": [],
   "source": [
    "# Load dataset\n",
    "df = pd.read_csv(\"Sales_Analysis_Data.csv\")\n",
    "df.head()"
   ]
  },
  {
   "cell_type": "code",
   "execution_count": null,
   "id": "7e87fcac",
   "metadata": {},
   "outputs": [],
   "source": [
    "# Check info and summary\n",
    "df.info()\n",
    "df.describe()"
   ]
  },
  {
   "cell_type": "code",
   "execution_count": null,
   "id": "d6da6e90",
   "metadata": {},
   "outputs": [],
   "source": [
    "# Check for missing values\n",
    "df.isnull().sum()"
   ]
  },
  {
   "cell_type": "code",
   "execution_count": null,
   "id": "095ebd4c",
   "metadata": {},
   "outputs": [],
   "source": [
    "# Already included, but ensure they exist\n",
    "df[\"Total Price\"] = df[\"Quantity\"] * df[\"Unit Price\"]\n",
    "df[\"Order Month\"] = pd.to_datetime(df[\"Date\"]).dt.month"
   ]
  },
  {
   "cell_type": "code",
   "execution_count": null,
   "id": "c464c008",
   "metadata": {},
   "outputs": [],
   "source": [
    "# Total sales by product\n",
    "df.groupby(\"Product\")[\"Total Price\"].sum().sort_values(ascending=False)"
   ]
  },
  {
   "cell_type": "code",
   "execution_count": null,
   "id": "799fc5cf",
   "metadata": {},
   "outputs": [],
   "source": [
    "# Bar chart\n",
    "df.groupby(\"Product\")[\"Total Price\"].sum().plot(kind=\"bar\", color=\"skyblue\", title=\"Total Sales by Product\")\n",
    "plt.ylabel(\"Total Sales (SAR)\")\n",
    "plt.show()"
   ]
  },
  {
   "cell_type": "code",
   "execution_count": null,
   "id": "30380612",
   "metadata": {},
   "outputs": [],
   "source": [
    "# Pie chart - Sales by Region\n",
    "df.groupby(\"Region\")[\"Total Price\"].sum().plot(kind=\"pie\", autopct=\"%1.1f%%\", startangle=90)\n",
    "plt.title(\"Sales by Region\")\n",
    "plt.ylabel(\"\")\n",
    "plt.show()"
   ]
  },
  {
   "cell_type": "code",
   "execution_count": null,
   "id": "efb79367",
   "metadata": {},
   "outputs": [],
   "source": [
    "# Line chart - Monthly sales\n",
    "df.groupby(\"Order Month\")[\"Total Price\"].sum().plot(kind=\"line\", marker=\"o\", title=\"Monthly Sales Trend\")\n",
    "plt.ylabel(\"Sales (SAR)\")\n",
    "plt.xlabel(\"Month\")\n",
    "plt.xticks(range(1,13))\n",
    "plt.grid(True)\n",
    "plt.show()"
   ]
  },
  {
   "cell_type": "code",
   "execution_count": null,
   "id": "9751bde6",
   "metadata": {},
   "outputs": [],
   "source": [
    "# Save final version\n",
    "df.to_csv(\"Cleaned_Sales_Report.csv\", index=False)"
   ]
  }
 ],
 "metadata": {},
 "nbformat": 4,
 "nbformat_minor": 5
}